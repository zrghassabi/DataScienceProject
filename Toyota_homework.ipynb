{
  "nbformat": 4,
  "nbformat_minor": 0,
  "metadata": {
    "colab": {
      "private_outputs": true,
      "provenance": [],
      "gpuType": "T4",
      "authorship_tag": "ABX9TyP5ScZLtuJziNpusjPqridB",
      "include_colab_link": true
    },
    "kernelspec": {
      "name": "python3",
      "display_name": "Python 3"
    },
    "language_info": {
      "name": "python"
    },
    "accelerator": "GPU"
  },
  "cells": [
    {
      "cell_type": "markdown",
      "metadata": {
        "id": "view-in-github",
        "colab_type": "text"
      },
      "source": [
        "<a href=\"https://colab.research.google.com/github/zrghassabi/DataScienceProject/blob/main/Toyota_homework.ipynb\" target=\"_parent\"><img src=\"https://colab.research.google.com/assets/colab-badge.svg\" alt=\"Open In Colab\"/></a>"
      ]
    },
    {
      "cell_type": "code",
      "source": [
        "from google.colab import files\n",
        "uploaded = files.upload()"
      ],
      "metadata": {
        "id": "UBw0wnbZprp9"
      },
      "execution_count": null,
      "outputs": []
    },
    {
      "cell_type": "code",
      "source": [
        "import os\n",
        "os.listdir('/content/')"
      ],
      "metadata": {
        "id": "eA4hbnzvp0bN"
      },
      "execution_count": null,
      "outputs": []
    },
    {
      "cell_type": "code",
      "source": [
        "import pandas as pd\n",
        "\n",
        "file_path = \"/content/PHEV_trips_sim (1).csv\"\n",
        "df = pd.read_csv(file_path)\n",
        "df.head()\n"
      ],
      "metadata": {
        "id": "u4y2IQvDp30j"
      },
      "execution_count": null,
      "outputs": []
    },
    {
      "cell_type": "code",
      "source": [
        "df[\"start_datetime\"] = pd.to_datetime(df[\"start_datetime\"])\n",
        "df[\"start_datetime\"]"
      ],
      "metadata": {
        "id": "-PCfV24Ko0Gp"
      },
      "execution_count": null,
      "outputs": []
    },
    {
      "cell_type": "code",
      "execution_count": null,
      "metadata": {
        "id": "mS0oYqKNgwGQ"
      },
      "outputs": [],
      "source": [
        "# 1. Count the number of unique vehicles in the dataset\n",
        "NumVehicles = df[\"VIN\"].nunique()\n",
        "\n",
        "# 2. Determine the time range of data collection\n",
        "df[\"start_datetime\"] = pd.to_datetime(df[\"start_datetime\"])\n",
        "TimeHorizon = df[\"start_datetime\"].max() - df[\"start_datetime\"].min()\n",
        "\n",
        "# Display results\n",
        "NumVehicles, TimeHorizon\n"
      ]
    },
    {
      "cell_type": "markdown",
      "source": [
        "Q1 and Q2) Number of vehicles in the dataset: 742\n",
        "\n",
        "Time horizon of data collection: 27 days, 23 hours, 55 minutes, and 54 seconds"
      ],
      "metadata": {
        "id": "0qGwojsNtNZO"
      }
    },
    {
      "cell_type": "code",
      "source": [
        "# 3. Estimate the percentage of vehicles relying on public chargers vs. home/work chargers\n",
        "\n",
        "# Group by vehicle and count the number of charging events per vehicle\n",
        "Chargingcnts = df.groupby(\"VIN\")[\"ChargingEvent\"].sum()\n",
        "\n",
        "# I assumed that vehicles with a high number of charging events rely on public chargers\n",
        "# and Set a threshold where high charging frequency suggests public charger usage\n",
        "PublicChargerThreshold = Chargingcnts.median()\n",
        "\n",
        "# Categorize vehicles\n",
        "public_charger_users = (Chargingcnts > PublicChargerThreshold).sum()\n",
        "TotalVehicles = len(Chargingcnts)\n",
        "\n",
        "# Calculate percentages\n",
        "PublicChargerPercentage = (public_charger_users /TotalVehicles ) * 100\n",
        "HomeWorkChargerPercentage = 100 - PublicChargerPercentage\n",
        "PublicChargerPercentage, HomeWorkChargerPercentage\n"
      ],
      "metadata": {
        "id": "4xc0WZnGncY9"
      },
      "execution_count": null,
      "outputs": []
    },
    {
      "cell_type": "markdown",
      "source": [
        "Q3)\n",
        "\n",
        "Estimated percentage of vehicles relying primarily on public chargers: 49.33%\n",
        "\n",
        "Estimated percentage of vehicles relying primarily on home/work chargers: 50.67%\n",
        "\n",
        "Assumptions: Vehicles that have a higher-than-median number of charging events are more likely to rely on public chargers since they need frequent recharges outside of a scheduled home/work charging routine.\n",
        "Vehicles with fewer charging events likely charge at home or work, where they can do so less frequently and more predictably.\n",
        "\n"
      ],
      "metadata": {
        "id": "PNoFKCpMsMpS"
      }
    },
    {
      "cell_type": "code",
      "source": [
        "import matplotlib.pyplot as plt\n",
        "\n",
        "# Visualization of distribution of charging events per vehicle\n",
        "plt.figure(figsize=(8, 4))\n",
        "plt.hist(Chargingcnts, bins=30, alpha=0.7, color=\"green\", edgecolor=\"black\")\n",
        "plt.axvline(PublicChargerThreshold, color='red', linestyle='dashed', linewidth=2, label=\"Public Charger Threshold\")\n",
        "plt.xlabel(\"Total Charging Events per Vehicle\")\n",
        "plt.ylabel(\"Number of Vehicles\")\n",
        "plt.title(\"Distribution of Charging Events Across Vehicles\")\n",
        "plt.legend()\n",
        "plt.grid(True)\n",
        "\n",
        "# Show the plot\n",
        "plt.show()\n"
      ],
      "metadata": {
        "id": "xknQBm21nhK9"
      },
      "execution_count": null,
      "outputs": []
    },
    {
      "cell_type": "markdown",
      "source": [
        "Q4 ) The histogram above shows the distribution of charging events per vehicle. I choose this visualization to show the spread of charging behaviors among vehicles. The red dashed line represents the threshold used to separate public charger users from home/work charger users.This shows that some vehicles require frequent recharging, indicating reliance on public chargers, while others charge less frequently, suggesting they primarily charge at home or work."
      ],
      "metadata": {
        "id": "1nnZ_z6fryEw"
      }
    },
    {
      "cell_type": "markdown",
      "source": [
        "Q5,Q6)\n",
        "\n",
        "To model and generate tables like this dataset, different machine learning approaches can be used. RNNs and LSTMs are great for capturing patterns in sequential data, like tracking time gaps between trips and charging events. However, Transformer-based models (e.g., Time-Series BERT) are even better at learning time-based dependencies using self-attention, making them ideal for predicting future charging behavior.\n",
        "\n",
        "If we need to generate synthetic data, VAEs and GANs can help create realistic vehicle trip data, which is useful for simulating different charging infrastructure scenarios. Gradient Boosted Trees (e.g., XGBoost) work well for predicting charging behavior and classifying vehicles based on their charging habits, especially when dealing with missing or categorical data. Graph Neural Networks (GNNs) can take this even further by modeling vehicle charging behavior across locations, treating vehicles as nodes and trips/charging stations as connections, which helps analyze network-wide trends.\n",
        "\n",
        "With more time, there are several interesting analyses we could explore. Charging pattern clustering (e.g., K-Means) could help group vehicles based on their charging habits, differentiating frequent public charger users from those who mostly charge at home. Predictive modeling using LSTMs or Transformers could forecast when and where a vehicle might need to charge next.\n",
        "\n",
        "A correlation analysis could reveal links between trip frequency, charging events, and idle times to better understand vehicle charging patterns. If we had location data, we could map public vs. private charging trends to find high-demand charging areas and improve infrastructure planning. Anomaly detection using autoencoders could flag unusual charging behavior, which might indicate faulty batteries or inefficient usage. Lastly, a policy impact simulation could model how different incentives (like off-peak pricing) affect charging behavior, helping optimize demand management for charging stations."
      ],
      "metadata": {
        "id": "-lXqWzTvvAZr"
      }
    },
    {
      "cell_type": "code",
      "source": [
        "import matplotlib.pyplot as plt\n",
        "import networkx as nx\n",
        "\n",
        "# Create a directed graph for the training process flowchart\n",
        "G = nx.DiGraph()\n",
        "\n",
        "# Define process stages\n",
        "stages = [\n",
        "    \"Preprocessing & Feature Extraction\",\n",
        "    \"Time-Conditioned Latent Space\",\n",
        "    \"Generative Decoding\",\n",
        "    \"Interpolation (Filling Missing Time)\",\n",
        "    \"Extrapolation (Predicting Future Trends)\"\n",
        "]\n",
        "\n",
        "# Define edges (connections between stages)\n",
        "edges = [\n",
        "    (\"Preprocessing & Feature Extraction\", \"Time-Conditioned Latent Space\"),\n",
        "    (\"Time-Conditioned Latent Space\", \"Generative Decoding\"),\n",
        "    (\"Generative Decoding\", \"Interpolation (Filling Missing Time)\"),\n",
        "    (\"Generative Decoding\", \"Extrapolation (Predicting Future Trends)\")\n",
        "]\n",
        "\n",
        "# Add nodes and edges to the graph\n",
        "G.add_nodes_from(stages)\n",
        "G.add_edges_from(edges)\n",
        "\n",
        "# Define layout positions for better visualization\n",
        "pos = {\n",
        "    \"Preprocessing & Feature Extraction\": (0, 2),\n",
        "    \"Time-Conditioned Latent Space\": (2, 2),\n",
        "    \"Generative Decoding\": (4, 2),\n",
        "    \"Interpolation (Filling Missing Time)\": (6, 3),\n",
        "    \"Extrapolation (Predicting Future Trends)\": (6, 1)\n",
        "}\n",
        "\n",
        "# Create figure\n",
        "plt.figure(figsize=(10, 6))\n",
        "\n",
        "# Draw the graph\n",
        "nx.draw(G, pos, with_labels=True, node_color=\"lightblue\", edge_color=\"black\",\n",
        "        node_size=3000, font_size=10, font_weight=\"bold\", arrows=True, linewidths=2)\n",
        "\n",
        "# Set title\n",
        "plt.title(\"Flowchart of Training Process for Time-Conditional Generative Model\", fontsize=14)\n",
        "\n",
        "# Show the figure\n",
        "plt.show()\n"
      ],
      "metadata": {
        "id": "GkE_qGBcvPZt"
      },
      "execution_count": null,
      "outputs": []
    }
  ]
}